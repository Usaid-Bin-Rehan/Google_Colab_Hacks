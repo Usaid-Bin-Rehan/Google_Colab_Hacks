{
  "nbformat": 4,
  "nbformat_minor": 0,
  "metadata": {
    "colab": {
      "name": "RESTful_API_using_FastAPI_GET_way.ipynb",
      "provenance": []
    },
    "kernelspec": {
      "name": "python3",
      "display_name": "Python 3"
    },
    "language_info": {
      "name": "python"
    }
  },
  "cells": [
    {
      "cell_type": "code",
      "metadata": {
        "id": "a3_wmWgMCFWn"
      },
      "source": [
        "!pip install fastapi\n",
        "!pip install uvicorn"
      ],
      "execution_count": null,
      "outputs": []
    },
    {
      "cell_type": "code",
      "metadata": {
        "id": "ePxijbpYCath"
      },
      "source": [
        "from fastapi import FastAPI\n",
        "\n",
        "app = FastAPI()\n",
        "\n",
        "@app.get(\"/predict\")\n",
        "\n",
        "def predict_complex_model(age : int , sex : str):\n",
        "    # Replace below lines by a ML model and modify the parameters\n",
        "    if age < 10 or sex == 'F':\n",
        "        return {'survived' : 1}\n",
        "    else:\n",
        "        return {'survived' : 0}"
      ],
      "execution_count": null,
      "outputs": []
    },
    {
      "cell_type": "code",
      "metadata": {
        "id": "oW9RmvPiDOLP"
      },
      "source": [
        "# Save above code as a file named RESTful_API_using_FastAPI_GET_way.py and type on terminal:\n",
        "\n",
        "# !uvicorn RESTful_API_using_FastAPI_GET_way : app --reload\n",
        "\n",
        "\n",
        "# Visit: http://127.0.0.1:8000/predict?age=10&sex=M\n",
        "\n",
        "\n",
        "# To use the requests module:\n",
        "\n",
        "# import requests\n",
        "# age = 15\n",
        "# sex = \"F\"\n",
        "# response = requests.get(f\"http://127.0.0.1:8000/predict?age={age}&sex={sex}\")\n",
        "# output = response.json()"
      ],
      "execution_count": null,
      "outputs": []
    }
  ]
}