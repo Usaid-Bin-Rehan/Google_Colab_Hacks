{
  "nbformat": 4,
  "nbformat_minor": 0,
  "metadata": {
    "colab": {
      "name": "RESTful_API_using_FastAPI_PUT_way.ipynb",
      "provenance": []
    },
    "kernelspec": {
      "name": "python3",
      "display_name": "Python 3"
    },
    "language_info": {
      "name": "python"
    }
  },
  "cells": [
    {
      "cell_type": "code",
      "metadata": {
        "id": "a3_wmWgMCFWn"
      },
      "source": [
        "!pip install fastapi\n",
        "!pip install uvicorn"
      ],
      "execution_count": null,
      "outputs": []
    },
    {
      "cell_type": "code",
      "metadata": {
        "id": "ePxijbpYCath"
      },
      "source": [
        "from fastapi import FastAPI\n",
        "from pydantic import BaseModel\n",
        "\n",
        "class Input(BaseModel):\n",
        "    age : int\n",
        "    sex : str\n",
        "\n",
        "app = FastAPI()\n",
        "\n",
        "@app.put(\"/predict\")\n",
        "\n",
        "def predict_complex_model(d:Input):\n",
        "# Replace the below code by a ML model and modify parameters\n",
        "    if d.age<10 or d.sex=='F':\n",
        "        return {'survived':1}\n",
        "    else:\n",
        "        return {'survived':0}"
      ],
      "execution_count": 4,
      "outputs": []
    },
    {
      "cell_type": "code",
      "metadata": {
        "id": "qDdLEV5tIPq3"
      },
      "source": [
        "# Access the API Progmatically:\n",
        "\n",
        "# import requests,json\n",
        "# payload = json.dumps\n",
        "# ({\n",
        "#   \"age\": 10,\n",
        "#   \"sex\": \"F\"\n",
        "# })\n",
        "# response = requests.put(\"http://127.0.0.1:8000/predict\",data = payload)\n",
        "# response.json()"
      ],
      "execution_count": null,
      "outputs": []
    }
  ]
}