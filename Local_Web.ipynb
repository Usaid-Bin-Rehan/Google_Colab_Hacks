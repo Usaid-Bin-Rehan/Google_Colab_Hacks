{
  "nbformat": 4,
  "nbformat_minor": 0,
  "metadata": {
    "colab": {
      "name": "Local_Web.ipynb",
      "provenance": []
    },
    "kernelspec": {
      "name": "python3",
      "display_name": "Python 3"
    },
    "language_info": {
      "name": "python"
    }
  },
  "cells": [
    {
      "cell_type": "markdown",
      "metadata": {
        "id": "VU0YrwNTaWcz"
      },
      "source": [
        "### **Text Webpage using Flask Ngrok**\n"
      ]
    },
    {
      "cell_type": "code",
      "metadata": {
        "id": "vu1OxKChcWSv"
      },
      "source": [
        "!pip install flask-ngrok\n",
        "\n",
        "from flask import Flask\n",
        "from flask_ngrok import run_with_ngrok"
      ],
      "execution_count": 25,
      "outputs": []
    },
    {
      "cell_type": "code",
      "metadata": {
        "id": "aOYopOlQbAFo"
      },
      "source": [
        "app = Flask(__name__)\n",
        "run_with_ngrok(app)   \n",
        "  \n",
        "@app.route(\"/\")\n",
        "\n",
        "def home():\n",
        "    return \"Hello World by Usaid Bin Rehan\"\n",
        "    \n",
        "app.run()"
      ],
      "execution_count": null,
      "outputs": []
    },
    {
      "cell_type": "markdown",
      "metadata": {
        "id": "f1w6RJG2akhx"
      },
      "source": [
        "### **ML Model Web App using Jupyter Dash**"
      ]
    },
    {
      "cell_type": "code",
      "metadata": {
        "id": "WahcCqQSW8Ef"
      },
      "source": [
        "!pip install jupyter-dash"
      ],
      "execution_count": null,
      "outputs": []
    },
    {
      "cell_type": "code",
      "metadata": {
        "id": "42qmSM6cXC0v"
      },
      "source": [
        "import plotly.express as px\n",
        "from jupyter_dash import JupyterDash\n",
        "import dash_core_components as dcc\n",
        "import dash_html_components as html\n",
        "from dash.dependencies import Input, Output"
      ],
      "execution_count": null,
      "outputs": []
    },
    {
      "cell_type": "code",
      "metadata": {
        "id": "17-0rdgfXF6X"
      },
      "source": [
        "df = px.data.tips()\n",
        "app = JupyterDash(__name__)\n",
        "app.layout = html.Div([\n",
        "    html.H1(\"Web App by Usaid Bin Rehan\"),\n",
        "    dcc.Graph(id='graph'),\n",
        "    html.Label([\n",
        "        \"colorscale\",\n",
        "        dcc.Dropdown(\n",
        "            id='colorscale-dropdown', clearable=False,\n",
        "            value='plasma', options=[\n",
        "                {'label': c, 'value': c}\n",
        "                for c in px.colors.named_colorscales()\n",
        "            ])\n",
        "    ]),\n",
        "])\n",
        "@app.callback(\n",
        "    Output('graph', 'figure'),\n",
        "    [Input(\"colorscale-dropdown\", \"value\")]\n",
        ")\n",
        "def update_figure(colorscale):\n",
        "    return px.scatter(\n",
        "        df, x=\"total_bill\", y=\"tip\", color=\"size\",\n",
        "        color_continuous_scale=colorscale,\n",
        "        render_mode=\"webgl\", title=\"Tips\"\n",
        "    )"
      ],
      "execution_count": 44,
      "outputs": []
    },
    {
      "cell_type": "code",
      "metadata": {
        "id": "Gewt50ImXKcb"
      },
      "source": [
        "app.run_server(mode='external')"
      ],
      "execution_count": null,
      "outputs": []
    }
  ]
}